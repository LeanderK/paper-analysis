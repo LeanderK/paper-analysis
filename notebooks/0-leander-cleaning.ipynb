{
 "cells": [
  {
   "cell_type": "markdown",
   "metadata": {},
   "source": [
    "# Data cleaning"
   ]
  },
  {
   "cell_type": "code",
   "execution_count": 77,
   "metadata": {},
   "outputs": [],
   "source": [
    "import pandas as pd\n",
    "import numpy as np\n",
    "import sklearn\n",
    "import plotly.offline as py\n",
    "from pandas.io.json import json_normalize\n",
    "import ast\n",
    "import os"
   ]
  },
  {
   "cell_type": "code",
   "execution_count": 104,
   "metadata": {},
   "outputs": [],
   "source": [
    "def read_and_transform(path):\n",
    "    nips = pd.read_csv(path, dtype={'AA':object})\n",
    "    unknown = [{'AfN': 'not found',\n",
    "      'AuN': 'not found',\n",
    "      'AuId': -1,\n",
    "      'AfId': -1}]\n",
    "    def evalWithNana(x):\n",
    "        if x is not None:\n",
    "            try:\n",
    "                return ast.literal_eval(x)\n",
    "            except Exception:\n",
    "                print(\"error:\" + str(x))\n",
    "                return unknown\n",
    "        else:\n",
    "            return unknown\n",
    "    nips['AA'] = nips['AA'].apply(evalWithNana)\n",
    "    authors = nips['AA'].apply(pd.Series)\n",
    "    authors = authors.rename(columns = lambda x : str(x))\n",
    "    cc = pd.concat([nips[:], authors[:]], axis=1)\n",
    "    witha = pd.melt(cc, id_vars=list(nips),  var_name='author_num', value_name='author')\n",
    "    witha = witha.drop(columns=['AA']).dropna(subset=['author'])\n",
    "    authorInfo = witha['author'].apply(pd.Series)\n",
    "    merged = pd.concat([witha[:], authorInfo[:]], axis=1)\n",
    "    return merged"
   ]
  },
  {
   "cell_type": "code",
   "execution_count": 105,
   "metadata": {},
   "outputs": [
    {
     "name": "stdout",
     "output_type": "stream",
     "text": [
      "nips_2012.csv\n",
      "nips_2006.csv\n",
      "nips_2007.csv\n",
      "error:nan\n",
      "nips_2013.csv\n",
      "nips_2005.csv\n",
      "nips_2011.csv\n",
      "nips_2010.csv\n",
      "error:nan\n",
      "nips_2004.csv\n",
      "error:nan\n",
      "nips_2000.csv\n",
      "nips_2014.csv\n",
      "error:nan\n",
      "error:nan\n",
      "error:nan\n",
      "error:nan\n",
      "nips_2015.csv\n",
      "error:nan\n",
      "error:nan\n",
      "error:nan\n",
      "error:nan\n",
      "error:nan\n",
      "error:nan\n",
      "nips_2001.csv\n",
      "nips_2017.csv\n",
      "error:nan\n",
      "error:nan\n",
      "error:nan\n",
      "error:nan\n",
      "error:nan\n",
      "error:nan\n",
      "error:nan\n",
      "error:nan\n",
      "error:nan\n",
      "error:nan\n",
      "nips_2003.csv\n",
      "nips_2002.csv\n",
      "nips_2016.csv\n",
      "error:nan\n",
      "error:nan\n",
      "nips_1989.csv\n",
      "nips_1988.csv\n",
      "nips_1998.csv\n",
      "nips_1999.csv\n",
      "nips_1997.csv\n",
      "nips_1996.csv\n",
      "nips_1994.csv\n",
      "nips_1995.csv\n",
      "nips_1991.csv\n",
      "nips_1990.csv\n",
      "nips_1992.csv\n",
      "nips_1993.csv\n",
      "nips_1987.csv\n",
      "nips_2009.csv\n",
      "error:nan\n",
      "nips_2008.csv\n",
      "error:nan\n"
     ]
    }
   ],
   "source": [
    "for filename in os.listdir(\"../data/raw/\"):\n",
    "    if filename.endswith(\".csv\"):\n",
    "        print(filename)\n",
    "        merged = read_and_transform(\"../data/raw/\" + filename)\n",
    "        merged.to_csv(\"../data/processed/\" + filename)"
   ]
  },
  {
   "cell_type": "code",
   "execution_count": null,
   "metadata": {},
   "outputs": [],
   "source": []
  }
 ],
 "metadata": {
  "kernelspec": {
   "display_name": "Python 3",
   "language": "python",
   "name": "python3"
  },
  "language_info": {
   "codemirror_mode": {
    "name": "ipython",
    "version": 3
   },
   "file_extension": ".py",
   "mimetype": "text/x-python",
   "name": "python",
   "nbconvert_exporter": "python",
   "pygments_lexer": "ipython3",
   "version": "3.6.5"
  }
 },
 "nbformat": 4,
 "nbformat_minor": 2
}
