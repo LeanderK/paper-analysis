{
 "cells": [
  {
   "cell_type": "markdown",
   "metadata": {},
   "source": [
    "# Scraping wikipedia for german public research instititions\n",
    "## TODO: other things than universities "
   ]
  },
  {
   "cell_type": "markdown",
   "metadata": {},
   "source": [
    "relevant:\n",
    " - https://en.wikipedia.org/wiki/List_of_universities_in_Germany"
   ]
  },
  {
   "cell_type": "code",
   "execution_count": 272,
   "metadata": {},
   "outputs": [],
   "source": [
    "import urllib3\n",
    "from bs4 import BeautifulSoup\n",
    "import pandas as pd\n",
    "import numpy as np\n",
    "import sklearn\n",
    "import plotly.offline as py\n",
    "from pandas.io.json import json_normalize\n",
    "import ast\n",
    "import os\n",
    "import matplotlib\n",
    "import matplotlib.pyplot as plt\n",
    "import http.client, urllib.request, urllib.parse, urllib.error, base64\n",
    "import os,json\n",
    "%matplotlib inline\n",
    "plt.style.use('fivethirtyeight')\n",
    "matplotlib.rcParams['figure.figsize'] = (15.0, 8.0)"
   ]
  },
  {
   "cell_type": "code",
   "execution_count": 273,
   "metadata": {},
   "outputs": [],
   "source": [
    "http = urllib3.PoolManager()"
   ]
  },
  {
   "cell_type": "code",
   "execution_count": 274,
   "metadata": {},
   "outputs": [],
   "source": [
    "url_syn = \"http://wikisynonyms.ipeirotis.com/api/\"\n",
    "def get_synonyms_via_wikipedia(synonym):\n",
    "    encoded = urllib.parse.quote(synonym, safe='')\n",
    "    response = http.request('GET', url_syn + encoded)\n",
    "    data = response.data.decode('utf-8')\n",
    "    print(synonym)\n",
    "    if data == \"\":\n",
    "        return []\n",
    "    elif response.status == 404:\n",
    "        print(\"unable to get synonyms for:\" + synonym)\n",
    "        return []\n",
    "    else:\n",
    "        json_data = json.loads(data)\n",
    "        res = [term[\"term\"] for term in json_data[\"terms\"]]\n",
    "        return res"
   ]
  },
  {
   "cell_type": "code",
   "execution_count": 283,
   "metadata": {},
   "outputs": [
    {
     "name": "stderr",
     "output_type": "stream",
     "text": [
      "/Users/LeanderK/.virtualenvs/paper_analysis/lib/python3.6/site-packages/urllib3/connectionpool.py:858: InsecureRequestWarning:\n",
      "\n",
      "Unverified HTTPS request is being made. Adding certificate verification is strongly advised. See: https://urllib3.readthedocs.io/en/latest/advanced-usage.html#ssl-warnings\n",
      "\n"
     ]
    },
    {
     "name": "stdout",
     "output_type": "stream",
     "text": [
      "TU Berlin\n",
      "RWTH Aachen\n",
      "Chemnitz University of Technology\n",
      "RWTH Aachen University\n",
      "Technical University of Berlin\n",
      "Brandenburg University of Technology\n",
      "Braunschweig University of Technology\n",
      "Chemnitz University of Technology\n",
      "Clausthal University of Technology\n",
      "Technical University of Dortmund\n",
      "Darmstadt University of Technology\n",
      "Dresden University of Technology\n",
      "Freiberg University of Mining and Technology\n",
      "Hamburg University of Technology\n",
      "University of Hannover\n",
      "Ilmenau University of Technology\n",
      "Kaiserslautern University of Technology\n",
      "Karlsruhe Institute of Technology\n",
      "Technical University of Munich\n",
      "University of Stuttgart\n",
      "University of Augsburg\n",
      "University of Bamberg\n",
      "University of Bayreuth\n",
      "Catholic University of Eichstätt-Ingolstadt\n",
      "University of Erlangen-Nuremberg\n",
      "University of Freiburg\n",
      "Zeppelin University\n",
      "University of Heidelberg\n",
      "University of Hohenheim\n",
      "Karlsruhe Institute of Technology\n",
      "University of Konstanz\n",
      "University of Mannheim\n",
      "Bundeswehr University of Munich\n",
      "University of Munich\n",
      "Ukrainian Free University Munich\n",
      "University of Passau\n",
      "University of Regensburg\n",
      "University of Stuttgart\n",
      "University of Tübingen\n",
      "University of Ulm\n",
      "University of Würzburg\n",
      "Berlin University of the Arts\n",
      "Dresden University of Technology\n",
      "Free University of Berlin\n",
      "Humboldt University of Berlin\n",
      "Hertie School of Governance\n",
      "Technical University of Ilmenau\n",
      "University of Erfurt\n",
      "University of Halle-Wittenberg\n",
      "University of Jena\n",
      "University of Leipzig\n",
      "University of Magdeburg\n",
      "University of Potsdam\n",
      "University of Weimar\n",
      "Viadrina University\n",
      "University of Bielefeld\n",
      "Ruhr University Bochum\n",
      "University of Bonn\n",
      "University of Cologne\n",
      "Technical University of Dortmund\n",
      "University of Duisburg-Essen\n",
      "University of Düsseldorf\n",
      "University of Frankfurt am Main\n",
      "University of Giessen\n",
      "University of Hagen\n",
      "University of Kassel\n",
      "University of Koblenz\n",
      "University of Mainz\n",
      "University of Marburg\n",
      "University of Münster\n",
      "University of Paderborn\n",
      "Saarland University\n",
      "University of Trier\n",
      "University of Siegen\n",
      "German University of Administrative Sciences Speyer\n",
      "Witten/Herdecke University\n",
      "unable to get synonyms for:Witten/Herdecke University\n",
      "University of Wuppertal\n",
      "University of Bremen\n",
      "Jacobs University Bremen\n",
      "University of Flensburg\n",
      "University of Göttingen\n",
      "University of Greifswald\n",
      "University of Hamburg\n",
      "Helmut Schmidt University\n",
      "Bundeswehr\n",
      "University of Hannover\n",
      "University of Hildesheim\n",
      "University of Kiel\n",
      "University of Lübeck\n",
      "University of Lüneburg\n",
      "University of Oldenburg\n",
      "University of Osnabrück\n",
      "University of Rostock\n",
      "University of Vechta\n",
      "University of Rostock\n",
      "University of Tübingen\n",
      "Bauhaus University, Weimar\n",
      "Martin Luther University of Halle-Wittenberg\n",
      "University of Oldenburg\n",
      "University of Osnabrück\n",
      "University of Paderborn\n",
      "University of Passau\n",
      "University of Potsdam\n",
      "University of Regensburg\n",
      "University of Rostock\n",
      "Saarland University\n",
      "University of Siegen\n",
      "German University of Administrative Sciences Speyer\n",
      "University of Stuttgart\n",
      "University of Trier\n",
      "University of Tübingen\n",
      "University of Ulm\n",
      "University of Halle-Wittenberg\n",
      "University of Vechta\n",
      "University of Weimar\n",
      "Witten/Herdecke University\n",
      "unable to get synonyms for:Witten/Herdecke University\n",
      "University of Wuppertal\n",
      "University of Würzburg\n",
      "University of Karlsruhe\n",
      "Leipzig University\n",
      "University of Mannheim\n",
      "LMU Munich\n",
      "University of Kaiserslautern\n",
      "Technical University of Ilmenau\n",
      "University of Jena\n",
      "Kaiserslautern University of Technology\n",
      "Karlsruhe Institute of Technology\n",
      "University of Kassel\n",
      "University of Kiel\n",
      "University of Koblenz-Landau\n",
      "University of Konstanz\n",
      "University of Leipzig\n",
      "University of Lübeck\n",
      "Leuphana University of Lüneburg\n",
      "University of Magdeburg\n",
      "University of Mainz\n",
      "University of Mannheim\n",
      "University of Marburg\n",
      "Technical University of Munich\n",
      "Ludwig Maximilians University of Munich\n",
      "Bundeswehr University Munich\n",
      "Ukrainian Free University Munich\n",
      "University of Münster\n",
      "University of Erlangen-Nuremberg\n",
      "Goethe University Frankfurt\n",
      "University of Freiburg\n",
      "University of Göttingen\n",
      "University of Hannover\n",
      "Catholic University of Eichstätt-Ingolstadt\n",
      "ESCP Europe\n",
      "University of Erfurt\n",
      "University of Erlangen-Nuremberg\n",
      "University of Duisburg-Essen\n",
      "University of Flensburg\n",
      "Goethe University of Frankfurt am Main\n",
      "Viadrina University\n",
      "Freiberg University of Mining and Technology\n",
      "Zeppelin University\n",
      "University of Freiburg\n",
      "University of Giessen\n",
      "University of Göttingen\n",
      "University of Greifswald\n",
      "University of Hagen\n",
      "University of Halle-Wittenberg\n",
      "University of Hamburg\n",
      "HafenCity University Hamburg\n",
      "Hamburg University of Technology\n",
      "Helmut Schmidt University\n",
      "Bundeswehr\n",
      "Hertie School of Governance\n",
      "University of Hannover\n",
      "University of Heidelberg\n",
      "University of Hildesheim\n",
      "University of Hohenheim\n",
      "Free University of Berlin\n",
      "Humboldt University of Berlin\n",
      "University of Cologne\n",
      "Dresden University of Technology\n",
      "RWTH Aachen University\n",
      "University of Augsburg\n",
      "University of Bamberg\n",
      "University of Bayreuth\n",
      "Berlin University of the Arts\n",
      "Free University of Berlin\n",
      "Humboldt University of Berlin\n",
      "Technical University of Berlin\n",
      "University of Bielefeld\n",
      "Ruhr University Bochum\n",
      "University of Bonn\n",
      "Brandenburg University of Technology\n",
      "Braunschweig University of Technology\n",
      "University of Bremen\n",
      "Jacobs University Bremen\n",
      "Chemnitz University of Technology\n",
      "Clausthal University of Technology\n",
      "University of Cologne\n",
      "Darmstadt University of Technology\n",
      "Technical University of Dortmund\n",
      "Dresden University of Technology\n",
      "University of Duisburg-Essen\n",
      "University of Düsseldorf\n"
     ]
    }
   ],
   "source": [
    "list_germ_univ = \"https://en.wikipedia.org/wiki/List_of_universities_in_Germany\"\n",
    "response = http.request('GET', list_germ_univ)\n",
    "soup = BeautifulSoup(response.data.decode('utf-8'), \"html5lib\")\n",
    "base = \"https://en.wikipedia.org\"\n",
    "unisL = []\n",
    "for ul in soup.select(\"#See_also\")[0].parent.find_previous_siblings('ul'):\n",
    "        for li in ul.find_all('li'):\n",
    "            for a in li.find_all('a'):\n",
    "                name = a.getText()\n",
    "                if name != \"\":\n",
    "                    res = get_synonyms_via_wikipedia(name) \n",
    "                    unisL.append((a.getText(), base + a['href'], res))  "
   ]
  },
  {
   "cell_type": "code",
   "execution_count": 297,
   "metadata": {},
   "outputs": [],
   "source": [
    "unis = pd.DataFrame(unisL, columns=[\"insitution\", \"wikipedia_url\", \"synonyms\"], dtype=\"str\")\n",
    "unis[\"synonyms\"] = unis[[\"synonyms\"]].astype(str)\n",
    "unis = unis.drop_duplicates(\"synonyms\")\n",
    "unis[\"insitution\"] = unis[\"insitution\"].str.lower()"
   ]
  },
  {
   "cell_type": "code",
   "execution_count": 298,
   "metadata": {},
   "outputs": [],
   "source": [
    "def explode(df, column_to_explode):\n",
    "    res = (df\n",
    "           .set_index([x for x in df.columns if x != column_to_explode])[column_to_explode]\n",
    "           .apply(lambda x: pd.Series(ast.literal_eval(x)))\n",
    "           .stack()\n",
    "           .reset_index())\n",
    "    res = res.rename(columns={\n",
    "              res.columns[-2]:'exploded_{}_index'.format(column_to_explode),\n",
    "              res.columns[-1]: '{}'.format(column_to_explode)})\n",
    "    return res"
   ]
  },
  {
   "cell_type": "code",
   "execution_count": 299,
   "metadata": {},
   "outputs": [],
   "source": [
    "unis = explode(unis, 'synonyms')\n",
    "unis[\"synonyms\"] = unis[\"synonyms\"].str.lower()"
   ]
  },
  {
   "cell_type": "code",
   "execution_count": 300,
   "metadata": {},
   "outputs": [],
   "source": [
    "nipses = []\n",
    "for filename in os.listdir(\"../data/processed/\"):\n",
    "    if filename.endswith(\".csv\"):\n",
    "        nips = pd.read_csv(\"../data/processed/\" + filename)\n",
    "        nips['year'] = filename[-8:9]\n",
    "        nips['year'] = nips['year'].astype(\"int\")\n",
    "        nipses.append(nips)\n",
    "nipses = pd.concat(nipses)"
   ]
  },
  {
   "cell_type": "code",
   "execution_count": 303,
   "metadata": {},
   "outputs": [
    {
     "data": {
      "text/plain": [
       "(543, 18)"
      ]
     },
     "execution_count": 303,
     "metadata": {},
     "output_type": "execute_result"
    }
   ],
   "source": [
    "nipses[nipses[\"AfN\"].isin(unis[\"synonyms\"])].shape"
   ]
  },
  {
   "cell_type": "code",
   "execution_count": 333,
   "metadata": {},
   "outputs": [
    {
     "data": {
      "text/plain": [
       "Series([], Name: AfN, dtype: object)"
      ]
     },
     "execution_count": 333,
     "metadata": {},
     "output_type": "execute_result"
    }
   ],
   "source": [
    "sanityCheck = nipses['AfN'].dropna()\n",
    "sanityCheck = sanityCheck[~sanityCheck.isin(unis[\"synonyms\"])]\n",
    "sanityCheck = sanityCheck[sanityCheck.str.contains(\"deutsche\")]\n",
    "sanityCheck"
   ]
  },
  {
   "cell_type": "code",
   "execution_count": 320,
   "metadata": {},
   "outputs": [],
   "source": [
    "unis.to_csv(\"../data/processed/german_universities.csv\")"
   ]
  },
  {
   "cell_type": "markdown",
   "metadata": {},
   "source": [
    "TODO: get real data"
   ]
  },
  {
   "cell_type": "code",
   "execution_count": 335,
   "metadata": {},
   "outputs": [],
   "source": [
    "insitutes = [(\"max planck society\", \"max planck society\"), (\"fraunhofer society\", \"fraunhofer society\")]\n",
    "insitutes = pd.DataFrame(institutions, columns=[\"insitution\", \"synonyms\"], dtype=\"str\")\n",
    "insitutes.to_csv(\"../data/processed/german_insitutes.csv\")"
   ]
  },
  {
   "cell_type": "code",
   "execution_count": null,
   "metadata": {},
   "outputs": [],
   "source": []
  }
 ],
 "metadata": {
  "kernelspec": {
   "display_name": "Python 3",
   "language": "python",
   "name": "python3"
  },
  "language_info": {
   "codemirror_mode": {
    "name": "ipython",
    "version": 3
   },
   "file_extension": ".py",
   "mimetype": "text/x-python",
   "name": "python",
   "nbconvert_exporter": "python",
   "pygments_lexer": "ipython3",
   "version": "3.6.5"
  }
 },
 "nbformat": 4,
 "nbformat_minor": 2
}
